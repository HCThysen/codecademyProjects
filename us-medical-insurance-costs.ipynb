{
 "cells": [
  {
   "cell_type": "markdown",
   "metadata": {},
   "source": [
    "# U.S. Medical Insurance Costs"
   ]
  },
  {
   "cell_type": "markdown",
   "metadata": {},
   "source": [
    "### Look over the dataset"
   ]
  },
  {
   "cell_type": "markdown",
   "metadata": {},
   "source": [
    "There are 7 columns in the dataset: \n",
    "1. age whose datatype is intergers. This is an ordinal variabel\n",
    "2. sex are strings. There seems to be two categories \"male\" and \"female\"\n",
    "3. bmi are floats. It is an ordinal variabel\n",
    "4. children are integers. It is an ordinal variabel\n",
    "5. smoker is a string. It is categorical with two values: \"yes\", \"no\"\n",
    "6. region is a string. It is also a categorical variabel. It seems to take four values \"northeast\", \"northwest\", \"southeast\", \"southwest\"\n",
    "7. charges is a float. This is an ordinal variabel\n",
    "\n",
    "There does not seem to be a lot of missing values. \n",
    "\n",
    "Since there is no information linking the personal features to illnesses, we can try to figure out how the personal characteristics contribute to the insurance costs"
   ]
  },
  {
   "cell_type": "markdown",
   "metadata": {
    "editable": true,
    "slideshow": {
     "slide_type": ""
    },
    "tags": []
   },
   "source": [
    "### Import Data"
   ]
  },
  {
   "cell_type": "code",
   "execution_count": 7,
   "metadata": {},
   "outputs": [
    {
     "name": "stdout",
     "output_type": "stream",
     "text": [
      "dict_keys(['age', 'sex', 'bmi', 'children', 'smoker', 'region', 'charges'])\n"
     ]
    }
   ],
   "source": [
    "import csv\n",
    "\n",
    "with open('insurance.csv') as insurance_csv:\n",
    "    insurance_reader = csv.DictReader(insurance_csv, delimiter=',')\n",
    "    insurance_records = []\n",
    "    for row in insurance_reader:\n",
    "        insurance_records.append(row)\n",
    "\n",
    "print(insurance_records[0].keys())"
   ]
  },
  {
   "cell_type": "markdown",
   "metadata": {},
   "source": [
    "### Saving the column as variables:\n",
    "Each row is a dictionary, so we need to get the values from the key: value pairs. \n",
    "1. Age should be saved as it is\n",
    "2. Sex should be saved as 0, and 1. This will make it easier later on. We save it as 'male' = 0, and 'female' = 1.\n",
    "3. bmi should be saved as is\n",
    "4. children should be saved as is\n",
    "5. smoker should be saved as an indicator function, where 'no' = 0, and 'yes' = 1\n",
    "6. region should stay as it is, the analysis, may make sense to do conditioned on the outcome of this variable, but cannot easily be interpreted as ordinal.\n",
    "7. charges should be saved as is"
   ]
  },
  {
   "cell_type": "code",
   "execution_count": 12,
   "metadata": {},
   "outputs": [
    {
     "name": "stdout",
     "output_type": "stream",
     "text": [
      "Missing in ages:  False\n",
      "Missing in sexs:  False\n",
      "Missing in bmis:  False\n",
      "Missing in childrens:  False\n",
      "Missing in smokers:  False\n",
      "Missing in regions:  False\n",
      "Missing in charges:  False\n"
     ]
    }
   ],
   "source": [
    "ages = []\n",
    "sexs = []\n",
    "bmis = []\n",
    "childrens = []\n",
    "smokers = []\n",
    "regions = []\n",
    "charges = []\n",
    "\n",
    "for row in insurance_records:\n",
    "    ages.append(row['age'])\n",
    "    if row['sex'] == 'male':\n",
    "        sexs.append(0)\n",
    "    elif row['sex'] == 'female': \n",
    "        sexs.append(1)\n",
    "    else:\n",
    "        sexs.append('Check data')\n",
    "    bmis.append(row['bmi'])\n",
    "    childrens.append(row['children'])\n",
    "    if row['smoker'] == 'no':\n",
    "        smokers.append(0)\n",
    "    elif row['smoker'] == 'yes':\n",
    "        smokers.append(1)\n",
    "    else:\n",
    "        smokers.append('Check data')\n",
    "    regions.append(row['region'])\n",
    "    charges.append(row['charges'])\n",
    "\n",
    "print('Missing in ages: ', None in ages)\n",
    "print('Missing in sexs: ', 'Check data' in sexs)\n",
    "print('Missing in bmis: ', None in bmis)\n",
    "print('Missing in childrens: ', None in childrens)\n",
    "print('Missing in smokers: ', 'Check data' in smokers)\n",
    "print('Missing in regions: ', None in regions)\n",
    "print('Missing in charges: ', None in charges)"
   ]
  },
  {
   "cell_type": "markdown",
   "metadata": {},
   "source": [
    "#### There does not seem to be any missing data"
   ]
  },
  {
   "cell_type": "markdown",
   "metadata": {},
   "source": [
    "## Exploratory analysis to figure about the mean and median of the ordinal variables, as well as the fractions of the "
   ]
  },
  {
   "cell_type": "markdown",
   "metadata": {},
   "source": [
    "### Make functions for the exploratory analysis"
   ]
  },
  {
   "cell_type": "code",
   "execution_count": 46,
   "metadata": {},
   "outputs": [],
   "source": [
    "def mean_function(alist):\n",
    "    total = 0\n",
    "    for item in alist:\n",
    "        total += float(item)\n",
    "    average = total/len(alist)\n",
    "    return average\n",
    "\n",
    "def median_function(alist):\n",
    "    sorted_list = sorted(alist)\n",
    "    median = sorted_list[int(round(len(alist)/2,0)-1)]\n",
    "    return median\n",
    "\n",
    "def variance_function(alist, mean_list):\n",
    "    diff = 0\n",
    "    for item in alist:\n",
    "        diff += (float(item) - mean_list)**2\n",
    "    variance = diff/len(alist)\n",
    "    return variance\n",
    "\n",
    "def fraction_function(alist, category):\n",
    "    count = 0\n",
    "    for item in alist:\n",
    "        if item == category:\n",
    "            count += 1\n",
    "    fraction = count/len(alist)\n",
    "    return fraction\n",
    "\n",
    "def print_ordinal(name, mean, variance, median):\n",
    "    print(name + ' has a mean of ' + str(round(mean,2)) + ' and a variance of ' + str(round(variance, 2)) \n",
    "              + '. The median is ' + str(median) + '.')\n",
    "    if mean < float(median):\n",
    "        print('The distribution seems to be right/negatively skewed')\n",
    "    elif mean > float(median):\n",
    "        print('The distribution seems to be left/positively skewed')\n",
    "\n",
    "def ordinal_variables(name, alist):\n",
    "    mean = mean_function(alist)\n",
    "    variance = variance_function(alist, mean)\n",
    "    median = median_function(alist)\n",
    "    print_ordinal(name, mean, variance, median)\n",
    "    "
   ]
  },
  {
   "cell_type": "markdown",
   "metadata": {},
   "source": [
    "### Use the functions to do exploratory analysis"
   ]
  },
  {
   "cell_type": "code",
   "execution_count": 48,
   "metadata": {},
   "outputs": [
    {
     "name": "stdout",
     "output_type": "stream",
     "text": [
      "Age has a mean of 39.21 and a variance of 197.25. The median is 39.\n",
      "The distribution seems to be left/positively skewed\n",
      "BMI has a mean of 30.66 and a variance of 37.16. The median is 30.4.\n",
      "The distribution seems to be left/positively skewed\n",
      "Children has a mean of 1.09 and a variance of 1.45. The median is 1.\n",
      "The distribution seems to be left/positively skewed\n",
      "Charges has a mean of 13270.42 and a variance of 146542766.49. The median is 3161.454.\n",
      "The distribution seems to be left/positively skewed\n"
     ]
    }
   ],
   "source": [
    "ordinal_variables('Age', ages)\n",
    "ordinal_variables('BMI', bmis)\n",
    "ordinal_variables('Children', childrens)\n",
    "ordinal_variables('Charges', charges)"
   ]
  },
  {
   "cell_type": "code",
   "execution_count": 52,
   "metadata": {},
   "outputs": [
    {
     "name": "stdout",
     "output_type": "stream",
     "text": [
      "The fraction of males in the insurance records is 0.5052316890881914.\n",
      "The fraction of smokers in the insurance records is 0.20478325859491778.\n",
      "The fraction of people coming from the Northwest is 0.2428998505231689, from the Northwest is 0.242152466367713, from the Southwest is 0.2428998505231689, and from the Southeast is 0.27204783258594917.\n"
     ]
    }
   ],
   "source": [
    "share_males = fraction_function(sexs, 0)\n",
    "print('The fraction of males in the insurance records is ' + str(share_males) + '.')\n",
    "\n",
    "share_smokers = fraction_function(smokers, 1)\n",
    "print('The fraction of smokers in the insurance records is ' + str(share_smokers) + '.')\n",
    "\n",
    "share_northwest = fraction_function(regions, 'northwest')\n",
    "share_northeast = fraction_function(regions, 'northeast')\n",
    "share_southwest = fraction_function(regions, 'southwest')\n",
    "share_southeast = fraction_function(regions, 'southeast')\n",
    "print('The fraction of people coming from the Northwest is ' + str(share_northwest) + ', from the Northwest is ' + str(share_northeast) \n",
    "      + ', from the Southwest is ' + str(share_southwest) + ', and from the Southeast is ' + str(share_southeast) + '.')"
   ]
  },
  {
   "cell_type": "markdown",
   "metadata": {},
   "source": [
    "### From exploratory analysis\n",
    "The insurance seems to be balanced between men and women, as well as across regions. The charges is left skewed. Next we look into to which extend this is due to the 20.5% of the smokers."
   ]
  },
  {
   "cell_type": "code",
   "execution_count": null,
   "metadata": {},
   "outputs": [],
   "source": [
    "def split_function(alist, smokers):\n",
    "    for index in range(len(smokers)):"
   ]
  }
 ],
 "metadata": {
  "kernelspec": {
   "display_name": "Python 3 (ipykernel)",
   "language": "python",
   "name": "python3"
  },
  "language_info": {
   "codemirror_mode": {
    "name": "ipython",
    "version": 3
   },
   "file_extension": ".py",
   "mimetype": "text/x-python",
   "name": "python",
   "nbconvert_exporter": "python",
   "pygments_lexer": "ipython3",
   "version": "3.13.2"
  }
 },
 "nbformat": 4,
 "nbformat_minor": 4
}
