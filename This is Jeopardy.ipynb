{
 "cells": [
  {
   "cell_type": "markdown",
   "metadata": {},
   "source": [
    "# This is Jeopardy!"
   ]
  },
  {
   "cell_type": "markdown",
   "metadata": {},
   "source": [
    "#### Overview"
   ]
  },
  {
   "cell_type": "markdown",
   "metadata": {},
   "source": [
    "This project is slightly different than others you have encountered thus far. Instead of a step-by-step tutorial, this project contains a series of open-ended requirements which describe the project you'll be building. There are many possible ways to correctly fulfill all of these requirements, and you should expect to use the internet, Codecademy, and/or other resources when you encounter a problem that you cannot easily solve."
   ]
  },
  {
   "cell_type": "markdown",
   "metadata": {},
   "source": [
    "#### Project Goals"
   ]
  },
  {
   "cell_type": "markdown",
   "metadata": {},
   "source": [
    "You will work to write several functions that investigate a dataset of _Jeopardy!_ questions and answers. Filter the dataset for topics that you're interested in, compute the average difficulty of those questions, and train to become the next Jeopardy champion!"
   ]
  },
  {
   "cell_type": "markdown",
   "metadata": {},
   "source": [
    "## Prerequisites"
   ]
  },
  {
   "cell_type": "markdown",
   "metadata": {},
   "source": [
    "In order to complete this project, you should have completed the Pandas lessons in the <a href=\"https://www.codecademy.com/learn/paths/analyze-data-with-python\">Analyze Data with Python Skill Path</a>. You can also find those lessons in the <a href=\"https://www.codecademy.com/learn/data-processing-pandas\">Data Analysis with Pandas course</a> or the <a href=\"https://www.codecademy.com/learn/paths/data-science/\">Data Scientist Career Path</a>.\n",
    "\n",
    "Finally, the <a href=\"https://www.codecademy.com/learn/practical-data-cleaning\">Practical Data Cleaning</a> course may also be helpful."
   ]
  },
  {
   "cell_type": "markdown",
   "metadata": {},
   "source": [
    "## Project Requirements"
   ]
  },
  {
   "cell_type": "markdown",
   "metadata": {},
   "source": [
    "1. We've provided a csv file containing data about the game show _Jeopardy!_ in a file named `jeopardy.csv`. Load the data into a DataFrame and investigate its contents. Try to print out specific columns.\n",
    "\n",
    "   Note that in order to make this project as \"real-world\" as possible, we haven't modified the data at all - we're giving it to you exactly how we found it. As a result, this data isn't as \"clean\" as the datasets you normally find on Codecademy. More specifically, there's something odd about the column names. After you figure out the problem with the column names, you may want to rename them to make your life easier for the rest of the project.\n",
    "   \n",
    "   In order to display the full contents of a column, we've added this line of code for you:\n",
    "   \n",
    "   ```py\n",
    "   pd.set_option('display.max_colwidth', None)\n",
    "   ```"
   ]
  },
  {
   "cell_type": "code",
   "execution_count": 20,
   "metadata": {},
   "outputs": [
    {
     "name": "stdout",
     "output_type": "stream",
     "text": [
      "   Show Number    Air Date      Round                         Category  Value  \\\n",
      "0         4680  2004-12-31  Jeopardy!                          HISTORY   $200   \n",
      "1         4680  2004-12-31  Jeopardy!  ESPN's TOP 10 ALL-TIME ATHLETES   $200   \n",
      "2         4680  2004-12-31  Jeopardy!      EVERYBODY TALKS ABOUT IT...   $200   \n",
      "3         4680  2004-12-31  Jeopardy!                 THE COMPANY LINE   $200   \n",
      "4         4680  2004-12-31  Jeopardy!              EPITAPHS & TRIBUTES   $200   \n",
      "\n",
      "                                                                                                      Question  \\\n",
      "0             For the last 8 years of his life, Galileo was under house arrest for espousing this man's theory   \n",
      "1  No. 2: 1912 Olympian; football star at Carlisle Indian School; 6 MLB seasons with the Reds, Giants & Braves   \n",
      "2                     The city of Yuma in this state has a record average of 4,055 hours of sunshine each year   \n",
      "3                         In 1963, live on \"The Art Linkletter Show\", this company served its billionth burger   \n",
      "4     Signer of the Dec. of Indep., framer of the Constitution of Mass., second President of the United States   \n",
      "\n",
      "       Answer  \n",
      "0  Copernicus  \n",
      "1  Jim Thorpe  \n",
      "2     Arizona  \n",
      "3  McDonald's  \n",
      "4  John Adams  \n"
     ]
    }
   ],
   "source": [
    "import pandas as pd\n",
    "pd.set_option('display.max_colwidth', None)\n",
    "\n",
    "jeopardy = pd.read_csv('jeopardy.csv')\n",
    "print(jeopardy.head())\n",
    "#print(jeopardy['Show Number'])\n",
    "#print(jeopardy[' Air Date']) #Air Date has a space in front of it\n",
    "#print(jeopardy[' Round']) #same for Round\n",
    "#print(jeopardy[' Category']) #and Category\n",
    "#print(jeopardy[' Value']) #and value\n",
    "#print(jeopardy[' Question']) #and Question\n",
    "#print(jeopardy[' Answer']) #And Answer"
   ]
  },
  {
   "cell_type": "markdown",
   "metadata": {},
   "source": [
    "Fix the column names"
   ]
  },
  {
   "cell_type": "code",
   "execution_count": 23,
   "metadata": {},
   "outputs": [
    {
     "name": "stdout",
     "output_type": "stream",
     "text": [
      "   show_number    air_date      round                         category value  \\\n",
      "0         4680  2004-12-31  Jeopardy!                          HISTORY  $200   \n",
      "1         4680  2004-12-31  Jeopardy!  ESPN's TOP 10 ALL-TIME ATHLETES  $200   \n",
      "2         4680  2004-12-31  Jeopardy!      EVERYBODY TALKS ABOUT IT...  $200   \n",
      "3         4680  2004-12-31  Jeopardy!                 THE COMPANY LINE  $200   \n",
      "4         4680  2004-12-31  Jeopardy!              EPITAPHS & TRIBUTES  $200   \n",
      "\n",
      "                                                                                                      question  \\\n",
      "0             For the last 8 years of his life, Galileo was under house arrest for espousing this man's theory   \n",
      "1  No. 2: 1912 Olympian; football star at Carlisle Indian School; 6 MLB seasons with the Reds, Giants & Braves   \n",
      "2                     The city of Yuma in this state has a record average of 4,055 hours of sunshine each year   \n",
      "3                         In 1963, live on \"The Art Linkletter Show\", this company served its billionth burger   \n",
      "4     Signer of the Dec. of Indep., framer of the Constitution of Mass., second President of the United States   \n",
      "\n",
      "       answer  \n",
      "0  Copernicus  \n",
      "1  Jim Thorpe  \n",
      "2     Arizona  \n",
      "3  McDonald's  \n",
      "4  John Adams  \n",
      "(216930, 7)\n"
     ]
    }
   ],
   "source": [
    "jeopardy.columns = ['show_number', 'air_date', 'round', 'category', 'value', 'question', 'answer']\n",
    "print(jeopardy.head())\n",
    "print(jeopardy.shape)"
   ]
  },
  {
   "cell_type": "markdown",
   "metadata": {},
   "source": [
    "2. Write a function that filters the dataset for questions that contains all of the words in a list of words. For example, when the list `[\"King\", \"England\"]` was passed to our function, the function returned a DataFrame of 49 rows. Every row had the strings `\"King\"` and `\"England\"` somewhere in its `\" Question\"`.\n",
    "\n",
    "   Test your function by printing out the column containing the question of each row of the dataset."
   ]
  },
  {
   "cell_type": "code",
   "execution_count": 29,
   "metadata": {},
   "outputs": [
    {
     "name": "stdout",
     "output_type": "stream",
     "text": [
      "(49, 7)\n"
     ]
    }
   ],
   "source": [
    "def filter_function(list_of_words, df):\n",
    "    new_df = df\n",
    "    for word in list_of_words:\n",
    "        new_df = new_df.loc[new_df[\"question\"].str.contains(word)] \n",
    "    return new_df\n",
    "    \n",
    "test = filter_function([\"King\", \"England\"], jeopardy)\n",
    "#print(test.question)\n",
    "print(test.shape)"
   ]
  },
  {
   "cell_type": "markdown",
   "metadata": {},
   "source": [
    "3. Test your original function with a few different sets of words to try to find some ways your function breaks. Edit your function so it is more robust.\n",
    "\n",
    "   For example, think about capitalization. We probably want to find questions that contain the word `\"King\"` or `\"king\"`.\n",
    "   \n",
    "   You may also want to check to make sure you don't find rows that contain substrings of your given words. For example, our function found a question that didn't contain the word `\"king\"`, however it did contain the word `\"viking\"` &mdash; it found the `\"king\"` inside `\"viking\"`. Note that this also comes with some drawbacks &mdash; you would no longer find questions that contained words like `\"England's\"`."
   ]
  },
  {
   "cell_type": "code",
   "execution_count": 39,
   "metadata": {},
   "outputs": [
    {
     "name": "stdout",
     "output_type": "stream",
     "text": [
      "(1604, 7) (5881, 7)\n",
      "(7409, 7) (7409, 7)\n",
      "27569    The status weapon of a viking, he'd decorate it to the hilt (& then decorate the hilt, too)\n",
      "Name: question, dtype: object\n",
      "(1786, 7)\n"
     ]
    }
   ],
   "source": [
    "test_capital = filter_function([\"King\"],jeopardy)\n",
    "test_lower = filter_function([\"king\"],jeopardy)\n",
    "print(test_capital.shape, test_lower.shape)\n",
    "\n",
    "# The size of the new dateFrames are very different depending on whether we use capital k or not.\n",
    "# I will change the function such that it transform the question to all lowercase before doing the comparison.\n",
    "# I will need to change the filtering method for that\n",
    "\n",
    "def filter_function_not_case_sensitive(list_of_words, df):\n",
    "    new_df = df\n",
    "    for word in list_of_words:\n",
    "        new_df = new_df[new_df[\"question\"].apply(lambda x: word.lower() in x.lower())] \n",
    "    return new_df\n",
    "\n",
    "test_capital = filter_function_not_case_sensitive([\"King\"],jeopardy)\n",
    "test_lower = filter_function_not_case_sensitive([\"king\"],jeopardy)\n",
    "print(test_capital.shape, test_lower.shape)\n",
    "\n",
    "# Test that we do indeed include viking when our list only contain king.\n",
    "print(filter_function([\"viking\"], test_lower).question)\n",
    "\n",
    "# We adapt the function by adding spaces on both sides of the words\n",
    "def filter_function_separate_word(list_of_words, df):\n",
    "    new_df = df\n",
    "    for word in list_of_words:\n",
    "        word = ' ' + word + ' '\n",
    "        new_df = new_df[new_df[\"question\"].apply(lambda x: word.lower() in x.lower())] \n",
    "    return new_df\n",
    "\n",
    "# We test is by ensuring that it reduces the matches\n",
    "test_lower = filter_function_separate_word([\"king\"],jeopardy)\n",
    "print(test_lower.shape)"
   ]
  },
  {
   "cell_type": "markdown",
   "metadata": {},
   "source": [
    "4. We may want to eventually compute aggregate statistics, like `.mean()` on the `\" Value\"` column. But right now, the values in that column are strings. Convert the`\" Value\"` column to floats. If you'd like to, you can create a new column with float values.\n",
    "\n",
    "   While most of the values in the `\" Value\"` column represent a dollar amount as a string, note that some do not &mdash; these values will need to be handled differently!\n",
    "\n",
    "   Now that you can filter the dataset of question, use your new column that contains the float values of each question to find the \"difficulty\" of certain topics. For example, what is the average value of questions that contain the word `\"King\"`?\n",
    "   \n",
    "   Make sure to use the dataset that contains the float values as the dataset you use in your filtering function."
   ]
  },
  {
   "cell_type": "code",
   "execution_count": 48,
   "metadata": {},
   "outputs": [
    {
     "name": "stdout",
     "output_type": "stream",
     "text": [
      "['$200' '$400' '$600' '$800' '$2,000' '$1000' '$1200' '$1600' '$2000'\n",
      " '$3,200' 'no value' '$5,000' '$100' '$300' '$500' '$1,000' '$1,500'\n",
      " '$1,200' '$4,800' '$1,800' '$1,100' '$2,200' '$3,400' '$3,000' '$4,000'\n",
      " '$1,600' '$6,800' '$1,900' '$3,100' '$700' '$1,400' '$2,800' '$8,000'\n",
      " '$6,000' '$2,400' '$12,000' '$3,800' '$2,500' '$6,200' '$10,000' '$7,000'\n",
      " '$1,492' '$7,400' '$1,300' '$7,200' '$2,600' '$3,300' '$5,400' '$4,500'\n",
      " '$2,100' '$900' '$3,600' '$2,127' '$367' '$4,400' '$3,500' '$2,900'\n",
      " '$3,900' '$4,100' '$4,600' '$10,800' '$2,300' '$5,600' '$1,111' '$8,200'\n",
      " '$5,800' '$750' '$7,500' '$1,700' '$9,000' '$6,100' '$1,020' '$4,700'\n",
      " '$2,021' '$5,200' '$3,389' '$4,200' '$5' '$2,001' '$1,263' '$4,637'\n",
      " '$3,201' '$6,600' '$3,700' '$2,990' '$5,500' '$14,000' '$2,700' '$6,400'\n",
      " '$350' '$8,600' '$6,300' '$250' '$3,989' '$8,917' '$9,500' '$1,246'\n",
      " '$6,435' '$8,800' '$2,222' '$2,746' '$10,400' '$7,600' '$6,700' '$5,100'\n",
      " '$13,200' '$4,300' '$1,407' '$12,400' '$5,401' '$7,800' '$1,183' '$1,203'\n",
      " '$13,000' '$11,600' '$14,200' '$1,809' '$8,400' '$8,700' '$11,000'\n",
      " '$5,201' '$1,801' '$3,499' '$5,700' '$601' '$4,008' '$50' '$2,344'\n",
      " '$2,811' '$18,000' '$1,777' '$3,599' '$9,800' '$796' '$3,150' '$20'\n",
      " '$1,810' '$22' '$9,200' '$1,512' '$8,500' '$585' '$1,534' '$13,800'\n",
      " '$5,001' '$4,238' '$16,400' '$1,347' '$2547' '$11,200']\n",
      "<class 'NoneType'>\n"
     ]
    }
   ],
   "source": [
    "# By printing the number of unique entries in the values, we can see what type of values we are dealing with.\n",
    "print(jeopardy.value.unique())\n",
    "\n",
    "\n",
    "print(type(None))"
   ]
  },
  {
   "cell_type": "markdown",
   "metadata": {},
   "source": [
    "5. Write a function that returns the count of unique answers to all of the questions in a dataset. For example, after filtering the entire dataset to only questions containing the word `\"King\"`, we could then find all of the unique answers to those questions. The answer \"Henry VIII\" appeared 55 times and was the most common answer."
   ]
  },
  {
   "cell_type": "code",
   "execution_count": null,
   "metadata": {},
   "outputs": [],
   "source": []
  },
  {
   "cell_type": "markdown",
   "metadata": {},
   "source": [
    "6. Explore from here! This is an incredibly rich dataset, and there are so many interesting things to discover. There are a few columns that we haven't even started looking at yet. Here are some ideas on ways to continue working with this data:\n",
    "\n",
    " * Investigate the ways in which questions change over time by filtering by the date. How many questions from the 90s use the word `\"Computer\"` compared to questions from the 2000s?\n",
    " * Is there a connection between the round and the category? Are you more likely to find certain categories, like `\"Literature\"` in Single Jeopardy or Double Jeopardy?\n",
    " * Build a system to quiz yourself. Grab random questions, and use the <a href=\"https://docs.python.org/3/library/functions.html#input\">input</a> function to get a response from the user. Check to see if that response was right or wrong."
   ]
  },
  {
   "cell_type": "code",
   "execution_count": null,
   "metadata": {},
   "outputs": [],
   "source": []
  },
  {
   "cell_type": "markdown",
   "metadata": {},
   "source": [
    "## Solution"
   ]
  },
  {
   "cell_type": "markdown",
   "metadata": {},
   "source": [
    "7. Compare your program to our <a href=\"https://content.codecademy.com/PRO/independent-practice-projects/jeopardy/jeopardy_solution.zip\">sample solution code</a> - remember, that your program might look different from ours (and probably will) and that's okay!"
   ]
  },
  {
   "cell_type": "markdown",
   "metadata": {},
   "source": [
    "8. Great work! Visit <a href=\"https://discuss.codecademy.com/t/this-is-jeopardy-challenge-project-python-pandas/462365\">our forums</a> to compare your project to our sample solution code. You can also learn how to host your own solution on GitHub so you can share it with other learners! Your solution might look different from ours, and that's okay! There are multiple ways to solve these projects, and you'll learn more by seeing others' code."
   ]
  },
  {
   "cell_type": "code",
   "execution_count": null,
   "metadata": {},
   "outputs": [],
   "source": []
  }
 ],
 "metadata": {
  "kernelspec": {
   "display_name": "Python 3 (ipykernel)",
   "language": "python",
   "name": "python3"
  },
  "language_info": {
   "codemirror_mode": {
    "name": "ipython",
    "version": 3
   },
   "file_extension": ".py",
   "mimetype": "text/x-python",
   "name": "python",
   "nbconvert_exporter": "python",
   "pygments_lexer": "ipython3",
   "version": "3.13.2"
  }
 },
 "nbformat": 4,
 "nbformat_minor": 4
}
